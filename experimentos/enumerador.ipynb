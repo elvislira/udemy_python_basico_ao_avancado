{
 "cells": [
  {
   "cell_type": "markdown",
   "metadata": {},
   "source": [
    "# Enumeradores"
   ]
  },
  {
   "cell_type": "code",
   "execution_count": 1,
   "metadata": {},
   "outputs": [
    {
     "name": "stdout",
     "output_type": "stream",
     "text": [
      "Id: 0 - Nome: Maria\n",
      "Id: 1 - Nome: Carla\n",
      "Id: 2 - Nome: Antônio\n",
      "Id: 3 - Nome: Vanessa\n",
      "Id: 4 - Nome: Izabel\n"
     ]
    }
   ],
   "source": [
    "nomes = ['Maria', 'Carla', 'Antônio', 'Vanessa', 'Izabel']\n",
    "nomes_enumerados = enumerate(nomes)\n",
    "\n",
    "for indice, nome in nomes_enumerados:\n",
    "    print(f'Id: {indice} - Nome: {nome}')"
   ]
  }
 ],
 "metadata": {
  "kernelspec": {
   "display_name": "venv",
   "language": "python",
   "name": "python3"
  },
  "language_info": {
   "codemirror_mode": {
    "name": "ipython",
    "version": 3
   },
   "file_extension": ".py",
   "mimetype": "text/x-python",
   "name": "python",
   "nbconvert_exporter": "python",
   "pygments_lexer": "ipython3",
   "version": "3.12.4"
  }
 },
 "nbformat": 4,
 "nbformat_minor": 2
}
