{
 "cells": [
  {
   "cell_type": "markdown",
   "metadata": {},
   "source": [
    "# Transformando uma string em iterador"
   ]
  },
  {
   "cell_type": "code",
   "execution_count": 2,
   "metadata": {},
   "outputs": [
    {
     "name": "stdout",
     "output_type": "stream",
     "text": [
      "S\n",
      "t\n",
      "r\n",
      "i\n",
      "n\n",
      "g\n",
      " \n",
      "a\n",
      " \n",
      "s\n",
      "e\n",
      "r\n",
      " \n",
      "t\n",
      "r\n",
      "a\n",
      "n\n",
      "s\n",
      "f\n",
      "o\n",
      "r\n",
      "m\n",
      "a\n",
      "d\n",
      "a\n",
      " \n",
      "e\n",
      "m\n",
      " \n",
      "u\n",
      "m\n",
      " \n",
      "i\n",
      "t\n",
      "e\n",
      "r\n",
      "a\n",
      "d\n",
      "o\n",
      "r\n",
      ".\n"
     ]
    }
   ],
   "source": [
    "mystring = 'String a ser transformada em um iterador.'\n",
    "iterador = iter(mystring)\n",
    "\n",
    "while(True):\n",
    "    try:\n",
    "        letra = next(iterador)\n",
    "        print(letra)\n",
    "    except StopIteration:\n",
    "        break"
   ]
  }
 ],
 "metadata": {
  "kernelspec": {
   "display_name": "venv",
   "language": "python",
   "name": "python3"
  },
  "language_info": {
   "codemirror_mode": {
    "name": "ipython",
    "version": 3
   },
   "file_extension": ".py",
   "mimetype": "text/x-python",
   "name": "python",
   "nbconvert_exporter": "python",
   "pygments_lexer": "ipython3",
   "version": "3.12.4"
  }
 },
 "nbformat": 4,
 "nbformat_minor": 2
}
