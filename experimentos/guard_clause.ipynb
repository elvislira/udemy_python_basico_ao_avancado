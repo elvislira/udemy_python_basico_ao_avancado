{
 "cells": [
  {
   "cell_type": "markdown",
   "metadata": {},
   "source": [
    "# Guard Clause"
   ]
  },
  {
   "cell_type": "code",
   "execution_count": 3,
   "metadata": {},
   "outputs": [],
   "source": [
    "def soma(x, y):\n",
    "    return x + y\n",
    "\n",
    "def produto(x, y):\n",
    "    return x * y\n",
    "\n",
    "def fatorial(numero):\n",
    "    if numero < 0:\n",
    "        return None\n",
    "    \n",
    "    if numero == 0 or numero == 1:\n",
    "        return 1\n",
    "    \n",
    "    return numero * fatorial(numero - 1)"
   ]
  },
  {
   "cell_type": "code",
   "execution_count": 4,
   "metadata": {},
   "outputs": [],
   "source": [
    "comandos = {\n",
    "    'somar': lambda x, y: soma(x, y),\n",
    "    'multiplicar': lambda x, y: produto(x, y),\n",
    "    'fatoriar': lambda x: fatorial(x)\n",
    "}"
   ]
  },
  {
   "cell_type": "code",
   "execution_count": 9,
   "metadata": {},
   "outputs": [
    {
     "name": "stdout",
     "output_type": "stream",
     "text": [
      "120\n"
     ]
    }
   ],
   "source": [
    "escolha = input('Que comando deseja executar: ')\n",
    "\n",
    "comando = comandos.get(escolha) if comandos.get(escolha) is not None else None\n",
    "\n",
    "if comando is None:\n",
    "    print('Comando desconhecido!')\n",
    "elif escolha == 'fatoriar':\n",
    "    print(comando(5))\n",
    "else:\n",
    "    print(comando(2, 7))"
   ]
  }
 ],
 "metadata": {
  "kernelspec": {
   "display_name": "venv",
   "language": "python",
   "name": "python3"
  },
  "language_info": {
   "codemirror_mode": {
    "name": "ipython",
    "version": 3
   },
   "file_extension": ".py",
   "mimetype": "text/x-python",
   "name": "python",
   "nbconvert_exporter": "python",
   "pygments_lexer": "ipython3",
   "version": "3.12.5"
  }
 },
 "nbformat": 4,
 "nbformat_minor": 2
}
