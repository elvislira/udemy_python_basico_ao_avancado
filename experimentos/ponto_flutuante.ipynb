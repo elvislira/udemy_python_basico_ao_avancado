{
 "cells": [
  {
   "cell_type": "markdown",
   "metadata": {},
   "source": [
    "# Ponto flutuante"
   ]
  },
  {
   "cell_type": "code",
   "execution_count": 1,
   "metadata": {},
   "outputs": [
    {
     "name": "stdout",
     "output_type": "stream",
     "text": [
      "0.7999999999999999\n",
      "0.80\n",
      "0.8\n"
     ]
    }
   ],
   "source": [
    "numero_1 = 0.1\n",
    "numero_2 = 0.7\n",
    "numero_3 = numero_1 + numero_2\n",
    "\n",
    "print(numero_3)\n",
    "print(f'{numero_3:.2f}')\n",
    "print(round(numero_3, 2))"
   ]
  },
  {
   "cell_type": "markdown",
   "metadata": {},
   "source": [
    "* Usando a classe Decimal"
   ]
  },
  {
   "cell_type": "code",
   "execution_count": 3,
   "metadata": {},
   "outputs": [
    {
     "name": "stdout",
     "output_type": "stream",
     "text": [
      "0.8\n"
     ]
    }
   ],
   "source": [
    "from decimal import Decimal\n",
    "\n",
    "numero_1 = Decimal(str(0.1))\n",
    "numero_2 = Decimal(str(0.7))\n",
    "numero_3 = numero_1 + numero_2\n",
    "\n",
    "print(numero_3)"
   ]
  }
 ],
 "metadata": {
  "kernelspec": {
   "display_name": "venv",
   "language": "python",
   "name": "python3"
  },
  "language_info": {
   "codemirror_mode": {
    "name": "ipython",
    "version": 3
   },
   "file_extension": ".py",
   "mimetype": "text/x-python",
   "name": "python",
   "nbconvert_exporter": "python",
   "pygments_lexer": "ipython3",
   "version": "3.12.4"
  }
 },
 "nbformat": 4,
 "nbformat_minor": 2
}
