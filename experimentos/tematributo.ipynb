{
 "cells": [
  {
   "cell_type": "markdown",
   "metadata": {},
   "source": [
    "# hasattr e getattr"
   ]
  },
  {
   "cell_type": "code",
   "execution_count": 25,
   "metadata": {},
   "outputs": [
    {
     "name": "stdout",
     "output_type": "stream",
     "text": [
      "Existe capitalize. Executando...\n",
      "Python language\n"
     ]
    }
   ],
   "source": [
    "objeto = 'python Language'\n",
    "objeto_tipo = str(type(objeto))[1:-1].split()[1]\n",
    "metodo = 'capitalize'\n",
    "\n",
    "if hasattr(objeto, metodo):\n",
    "    print(f'Existe {metodo}. Executando...')\n",
    "    print(getattr(objeto, metodo)())\n",
    "else:\n",
    "    print(f'O método {metodo} não existe no objeto {objeto_tipo}')"
   ]
  }
 ],
 "metadata": {
  "kernelspec": {
   "display_name": "venv",
   "language": "python",
   "name": "python3"
  },
  "language_info": {
   "codemirror_mode": {
    "name": "ipython",
    "version": 3
   },
   "file_extension": ".py",
   "mimetype": "text/x-python",
   "name": "python",
   "nbconvert_exporter": "python",
   "pygments_lexer": "ipython3",
   "version": "3.12.5"
  }
 },
 "nbformat": 4,
 "nbformat_minor": 2
}
