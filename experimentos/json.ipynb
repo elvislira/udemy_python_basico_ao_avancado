{
 "cells": [
  {
   "cell_type": "markdown",
   "metadata": {},
   "source": [
    "# Manipulando arquivos json"
   ]
  },
  {
   "cell_type": "code",
   "execution_count": 7,
   "metadata": {},
   "outputs": [],
   "source": [
    "import json"
   ]
  },
  {
   "cell_type": "code",
   "execution_count": 8,
   "metadata": {},
   "outputs": [],
   "source": [
    "pessoa = {\n",
    "    \"nome\": \"Luiz Otávio 2\",\n",
    "    \"sobrenome\": \"Miranda\",\n",
    "    \"enderecos\": [\n",
    "        {\n",
    "            \"rua\": \"R1\",\n",
    "            \"numero\": 32\n",
    "        },\n",
    "        {\n",
    "            \"rua\": \"R2\",\n",
    "            \"numero\": 55\n",
    "        }\n",
    "    ],\n",
    "    \"altura\": 1.8,\n",
    "    \"numeros_preferidos\": [2, 4, 6, 8, 10],\n",
    "    \"dev\": True,\n",
    "    \"nada\": None\n",
    "}"
   ]
  },
  {
   "cell_type": "markdown",
   "metadata": {},
   "source": [
    "* Escrevendo em um arquivo json"
   ]
  },
  {
   "cell_type": "code",
   "execution_count": 10,
   "metadata": {},
   "outputs": [],
   "source": [
    "with open('pessoa.json', 'w', encoding='utf8') as file:\n",
    "    json.dump(pessoa, file, ensure_ascii=False, indent=4)"
   ]
  },
  {
   "cell_type": "markdown",
   "metadata": {},
   "source": [
    "* Lendo um arquivo json"
   ]
  },
  {
   "cell_type": "code",
   "execution_count": 11,
   "metadata": {},
   "outputs": [
    {
     "name": "stdout",
     "output_type": "stream",
     "text": [
      "{'nome': 'Luiz Otávio 2', 'sobrenome': 'Miranda', 'enderecos': [{'rua': 'R1', 'numero': 32}, {'rua': 'R2', 'numero': 55}], 'altura': 1.8, 'numeros_preferidos': [2, 4, 6, 8, 10], 'dev': True, 'nada': None}\n"
     ]
    }
   ],
   "source": [
    "with open('pessoa.json', 'r') as file:\n",
    "    pessoa_dict = json.load(file)\n",
    "\n",
    "print(pessoa)"
   ]
  }
 ],
 "metadata": {
  "kernelspec": {
   "display_name": "venv",
   "language": "python",
   "name": "python3"
  },
  "language_info": {
   "codemirror_mode": {
    "name": "ipython",
    "version": 3
   },
   "file_extension": ".py",
   "mimetype": "text/x-python",
   "name": "python",
   "nbconvert_exporter": "python",
   "pygments_lexer": "ipython3",
   "version": "3.12.5"
  }
 },
 "nbformat": 4,
 "nbformat_minor": 2
}
