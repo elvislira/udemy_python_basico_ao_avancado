{
 "cells": [
  {
   "cell_type": "markdown",
   "metadata": {},
   "source": [
    "# Passando vários argumentos"
   ]
  },
  {
   "cell_type": "markdown",
   "metadata": {},
   "source": [
    "* Soma de valores"
   ]
  },
  {
   "cell_type": "code",
   "execution_count": 16,
   "metadata": {},
   "outputs": [],
   "source": [
    "def soma(*args):\n",
    "    return sum(args)"
   ]
  },
  {
   "cell_type": "code",
   "execution_count": 18,
   "metadata": {},
   "outputs": [
    {
     "name": "stdout",
     "output_type": "stream",
     "text": [
      "34\n"
     ]
    }
   ],
   "source": [
    "soma_valores = soma(2, 4, 13, 5, 10)\n",
    "\n",
    "print(soma_valores)"
   ]
  },
  {
   "cell_type": "markdown",
   "metadata": {},
   "source": [
    "* Produto de valores"
   ]
  },
  {
   "cell_type": "code",
   "execution_count": 19,
   "metadata": {},
   "outputs": [],
   "source": [
    "def produto(*args):\n",
    "    resultado = 1\n",
    "\n",
    "    for valor in args:\n",
    "        resultado *= valor\n",
    "    \n",
    "    return resultado"
   ]
  },
  {
   "cell_type": "code",
   "execution_count": 20,
   "metadata": {},
   "outputs": [
    {
     "name": "stdout",
     "output_type": "stream",
     "text": [
      "280\n"
     ]
    }
   ],
   "source": [
    "print(produto(2, 4, 5, 1, 7))"
   ]
  },
  {
   "cell_type": "markdown",
   "metadata": {},
   "source": [
    "* Retorna tupla com pares e ímpares"
   ]
  },
  {
   "cell_type": "code",
   "execution_count": 21,
   "metadata": {},
   "outputs": [],
   "source": [
    "def pares_impares(*args):\n",
    "    pares = []\n",
    "    impares = []\n",
    "\n",
    "    for valor in args:\n",
    "        if valor%2:\n",
    "            impares.append(valor)\n",
    "        else:\n",
    "            pares.append(valor)\n",
    "    \n",
    "    return tuple(pares), tuple(impares)"
   ]
  },
  {
   "cell_type": "code",
   "execution_count": 25,
   "metadata": {},
   "outputs": [
    {
     "name": "stdout",
     "output_type": "stream",
     "text": [
      "Pares = (4, 6, 8, 14)\n",
      "Ímpares = (5, 3, 11, 13, 7)\n"
     ]
    }
   ],
   "source": [
    "pares, impares = pares_impares(4, 5, 3, 6, 11, 13, 7, 8, 14)\n",
    "\n",
    "print(f'Pares = {pares}\\nÍmpares = {impares}')"
   ]
  }
 ],
 "metadata": {
  "kernelspec": {
   "display_name": "venv",
   "language": "python",
   "name": "python3"
  },
  "language_info": {
   "codemirror_mode": {
    "name": "ipython",
    "version": 3
   },
   "file_extension": ".py",
   "mimetype": "text/x-python",
   "name": "python",
   "nbconvert_exporter": "python",
   "pygments_lexer": "ipython3",
   "version": "3.12.4"
  }
 },
 "nbformat": 4,
 "nbformat_minor": 2
}
