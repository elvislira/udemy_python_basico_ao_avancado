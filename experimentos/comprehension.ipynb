{
 "cells": [
  {
   "cell_type": "markdown",
   "metadata": {},
   "source": [
    "# Comprehension"
   ]
  },
  {
   "cell_type": "markdown",
   "metadata": {},
   "source": [
    "* List conprehension"
   ]
  },
  {
   "cell_type": "code",
   "execution_count": 19,
   "metadata": {},
   "outputs": [
    {
     "name": "stdout",
     "output_type": "stream",
     "text": [
      "[6, 22, 12, 22, 10, 20, 22, 18, 22]\n",
      "[15, 11, 21, 9, 13, 11, 9, 21, 11]\n"
     ]
    }
   ],
   "source": [
    "from random import randint\n",
    "\n",
    "def executa(funcao, *args):\n",
    "    return funcao(*args)\n",
    "\n",
    "\n",
    "pares = [\n",
    "    executa(\n",
    "        lambda x: 2 * x + 2, randint(1, 10)\n",
    "    ) \n",
    "    for i in range(1, 10)\n",
    "]\n",
    "impares = [\n",
    "    executa(\n",
    "        lambda x: 2 * x + 1, randint(1, 10)\n",
    "    ) \n",
    "    for i in range(1, 10)\n",
    "]\n",
    "\n",
    "print(pares)\n",
    "print(impares)"
   ]
  },
  {
   "cell_type": "code",
   "execution_count": 31,
   "metadata": {},
   "outputs": [
    {
     "name": "stdout",
     "output_type": "stream",
     "text": [
      "[{'descricao': 'Nitro 5', 'id': 123, 'valor': 6825.0},\n",
      " {'descricao': 'Monitor', 'id': 251, 'valor': 990.0},\n",
      " {'descricao': 'Teclado', 'id': 632, 'valor': 110.0}]\n"
     ]
    }
   ],
   "source": [
    "from pprint import pprint\n",
    "\n",
    "produtos = [\n",
    "    {'id': 123, 'descricao': 'Nitro 5', 'valor': 6500.0},\n",
    "    {'id': 251, 'descricao': 'Monitor', 'valor': 900.0},\n",
    "    {'id': 632, 'descricao': 'Teclado', 'valor': 100.0},\n",
    "]\n",
    "\n",
    "# Reajuste de 5% para produtos acima de 1000 e 10% para os demais\n",
    "produtos_reajustados = [\n",
    "    {**produto, 'valor': round(produto['valor'] * 1.05, 2)\n",
    "        if produto['valor']>1000 else round(produto['valor'] * 1.10, 2)}\n",
    "    for produto in produtos\n",
    "]\n",
    "\n",
    "pprint(produtos_reajustados)"
   ]
  },
  {
   "cell_type": "markdown",
   "metadata": {},
   "source": [
    "* Dicionario comprehension"
   ]
  },
  {
   "cell_type": "code",
   "execution_count": 38,
   "metadata": {},
   "outputs": [
    {
     "name": "stdout",
     "output_type": "stream",
     "text": [
      "{'descricao': 'Nitro 5', 'id': 123, 'valor': 6825.0}\n",
      "{'descricao': 'NITRO 5', 'id': 123, 'valor': 6825.0}\n"
     ]
    }
   ],
   "source": [
    "produto = produtos_reajustados[0]\n",
    "\n",
    "pprint(produto)\n",
    "\n",
    "prod = {chave: valor.upper() if isinstance(valor, str) else valor for chave, valor in produto.items()}\n",
    "\n",
    "pprint(prod)"
   ]
  },
  {
   "cell_type": "markdown",
   "metadata": {},
   "source": [
    "* Set comprehension"
   ]
  },
  {
   "cell_type": "code",
   "execution_count": 41,
   "metadata": {},
   "outputs": [
    {
     "name": "stdout",
     "output_type": "stream",
     "text": [
      "{1, 2, 3, 4, 5, 6, 7, 8, 9, 10, 11, 12, 13, 14, 15}\n"
     ]
    }
   ],
   "source": [
    "conjunto = {numero for numero in range(1, 16)}\n",
    "\n",
    "print(conjunto)"
   ]
  }
 ],
 "metadata": {
  "kernelspec": {
   "display_name": "venv",
   "language": "python",
   "name": "python3"
  },
  "language_info": {
   "codemirror_mode": {
    "name": "ipython",
    "version": 3
   },
   "file_extension": ".py",
   "mimetype": "text/x-python",
   "name": "python",
   "nbconvert_exporter": "python",
   "pygments_lexer": "ipython3",
   "version": "3.12.5"
  }
 },
 "nbformat": 4,
 "nbformat_minor": 2
}
