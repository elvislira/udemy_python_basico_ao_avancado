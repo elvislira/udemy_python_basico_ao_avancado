{
 "cells": [
  {
   "cell_type": "markdown",
   "metadata": {},
   "source": [
    "# Groupby"
   ]
  },
  {
   "cell_type": "code",
   "execution_count": 41,
   "metadata": {},
   "outputs": [],
   "source": [
    "def imprimir_lista(lista_alunos):\n",
    "    for item in lista_alunos:\n",
    "        print(item)"
   ]
  },
  {
   "cell_type": "code",
   "execution_count": 42,
   "metadata": {},
   "outputs": [],
   "source": [
    "alunos = [\n",
    "    {'matricula': 2174, 'nome': 'Joana', 'nota': 7.5, 'turma': 'D'},\n",
    "    {'matricula': 1254, 'nome': 'André', 'nota': 8.5, 'turma': 'A'},\n",
    "    {'matricula': 9625, 'nome': 'Marcelo', 'nota': 10.0, 'turma': 'A'},\n",
    "    {'matricula': 8751, 'nome': 'Renata', 'nota': 6.5, 'turma': 'D'},\n",
    "    {'matricula': 4561, 'nome': 'Felipe', 'nota': 9.0, 'turma': 'C'},\n",
    "    {'matricula': 1204, 'nome': 'Lúcia', 'nota': 5.0, 'turma': 'B'},\n",
    "    {'matricula': 2587, 'nome': 'Fernando', 'nota': 9.5, 'turma': 'A'},\n",
    "    {'matricula': 9523, 'nome': 'Carla', 'nota': 5.0, 'turma': 'A'},\n",
    "    {'matricula': 7919, 'nome': 'Maria', 'nota': 8.5, 'turma': 'B'},\n",
    "    {'matricula': 3520, 'nome': 'Paulo', 'nota': 9.0, 'turma': 'B'}\n",
    "]"
   ]
  },
  {
   "cell_type": "code",
   "execution_count": 43,
   "metadata": {},
   "outputs": [],
   "source": [
    "ordenador = lambda aluno: aluno['turma']"
   ]
  },
  {
   "cell_type": "markdown",
   "metadata": {},
   "source": [
    "* Ordenando a lista por turma"
   ]
  },
  {
   "cell_type": "code",
   "execution_count": 44,
   "metadata": {},
   "outputs": [
    {
     "name": "stdout",
     "output_type": "stream",
     "text": [
      "{'matricula': 1254, 'nome': 'André', 'nota': 8.5, 'turma': 'A'}\n",
      "{'matricula': 9625, 'nome': 'Marcelo', 'nota': 10.0, 'turma': 'A'}\n",
      "{'matricula': 2587, 'nome': 'Fernando', 'nota': 9.5, 'turma': 'A'}\n",
      "{'matricula': 9523, 'nome': 'Carla', 'nota': 5.0, 'turma': 'A'}\n",
      "{'matricula': 1204, 'nome': 'Lúcia', 'nota': 5.0, 'turma': 'B'}\n",
      "{'matricula': 7919, 'nome': 'Maria', 'nota': 8.5, 'turma': 'B'}\n",
      "{'matricula': 3520, 'nome': 'Paulo', 'nota': 9.0, 'turma': 'B'}\n",
      "{'matricula': 4561, 'nome': 'Felipe', 'nota': 9.0, 'turma': 'C'}\n",
      "{'matricula': 2174, 'nome': 'Joana', 'nota': 7.5, 'turma': 'D'}\n",
      "{'matricula': 8751, 'nome': 'Renata', 'nota': 6.5, 'turma': 'D'}\n"
     ]
    }
   ],
   "source": [
    "alunos_ordenados = sorted(alunos, key=ordenador)\n",
    "\n",
    "imprimir_lista(alunos_ordenados)"
   ]
  },
  {
   "cell_type": "markdown",
   "metadata": {},
   "source": [
    "* Agrupar por turma"
   ]
  },
  {
   "cell_type": "code",
   "execution_count": 46,
   "metadata": {},
   "outputs": [
    {
     "name": "stdout",
     "output_type": "stream",
     "text": [
      ">>> A <<<\n",
      "{'matricula': 1254, 'nome': 'André', 'nota': 8.5, 'turma': 'A'}\n",
      "{'matricula': 9625, 'nome': 'Marcelo', 'nota': 10.0, 'turma': 'A'}\n",
      "{'matricula': 2587, 'nome': 'Fernando', 'nota': 9.5, 'turma': 'A'}\n",
      "{'matricula': 9523, 'nome': 'Carla', 'nota': 5.0, 'turma': 'A'}\n",
      ">>> B <<<\n",
      "{'matricula': 1204, 'nome': 'Lúcia', 'nota': 5.0, 'turma': 'B'}\n",
      "{'matricula': 7919, 'nome': 'Maria', 'nota': 8.5, 'turma': 'B'}\n",
      "{'matricula': 3520, 'nome': 'Paulo', 'nota': 9.0, 'turma': 'B'}\n",
      ">>> C <<<\n",
      "{'matricula': 4561, 'nome': 'Felipe', 'nota': 9.0, 'turma': 'C'}\n",
      ">>> D <<<\n",
      "{'matricula': 2174, 'nome': 'Joana', 'nota': 7.5, 'turma': 'D'}\n",
      "{'matricula': 8751, 'nome': 'Renata', 'nota': 6.5, 'turma': 'D'}\n"
     ]
    }
   ],
   "source": [
    "from itertools import groupby\n",
    "\n",
    "alunos_agrupados = groupby(alunos_ordenados, key=ordenador)\n",
    "\n",
    "for chave, valor in alunos_agrupados:\n",
    "    print(f'>>> {chave} <<<')\n",
    "    imprimir_lista(list(valor))"
   ]
  }
 ],
 "metadata": {
  "kernelspec": {
   "display_name": "venv",
   "language": "python",
   "name": "python3"
  },
  "language_info": {
   "codemirror_mode": {
    "name": "ipython",
    "version": 3
   },
   "file_extension": ".py",
   "mimetype": "text/x-python",
   "name": "python",
   "nbconvert_exporter": "python",
   "pygments_lexer": "ipython3",
   "version": "3.12.5"
  }
 },
 "nbformat": 4,
 "nbformat_minor": 2
}
