{
 "cells": [
  {
   "cell_type": "markdown",
   "metadata": {},
   "source": [
    "# Closure em Python"
   ]
  },
  {
   "cell_type": "code",
   "execution_count": 3,
   "metadata": {},
   "outputs": [
    {
     "name": "stdout",
     "output_type": "stream",
     "text": [
      "Bom dia, Maria!\n",
      "Boa noite, Vanessa!\n"
     ]
    }
   ],
   "source": [
    "def criar_saudacao(saudacao, nome):\n",
    "    def saudar():\n",
    "        return f'{saudacao}, {nome}!'\n",
    "    \n",
    "    return saudar\n",
    "\n",
    "s1 = criar_saudacao('Bom dia', 'Maria')\n",
    "s2 = criar_saudacao('Boa noite', 'Vanessa')\n",
    "\n",
    "print(s1())\n",
    "print(s2())"
   ]
  },
  {
   "cell_type": "code",
   "execution_count": 4,
   "metadata": {},
   "outputs": [
    {
     "name": "stdout",
     "output_type": "stream",
     "text": [
      "Bom dia, Carlos!\n",
      "Boa noite, Priscila!\n"
     ]
    }
   ],
   "source": [
    "def criar_saudacao(saudacao):\n",
    "    def saudar(nome):\n",
    "        return f'{saudacao}, {nome}!'\n",
    "    \n",
    "    return saudar\n",
    "\n",
    "bom_dia = criar_saudacao('Bom dia')\n",
    "boa_noite = criar_saudacao('Boa noite')\n",
    "\n",
    "print(bom_dia('Carlos'))\n",
    "print(boa_noite('Priscila'))"
   ]
  }
 ],
 "metadata": {
  "kernelspec": {
   "display_name": "venv",
   "language": "python",
   "name": "python3"
  },
  "language_info": {
   "codemirror_mode": {
    "name": "ipython",
    "version": 3
   },
   "file_extension": ".py",
   "mimetype": "text/x-python",
   "name": "python",
   "nbconvert_exporter": "python",
   "pygments_lexer": "ipython3",
   "version": "3.12.4"
  }
 },
 "nbformat": 4,
 "nbformat_minor": 2
}
