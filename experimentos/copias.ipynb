{
 "cells": [
  {
   "cell_type": "markdown",
   "metadata": {},
   "source": [
    "# Shallow copy vs Deep copy"
   ]
  },
  {
   "cell_type": "markdown",
   "metadata": {},
   "source": [
    "* Cópia raza (shallow copy)"
   ]
  },
  {
   "cell_type": "code",
   "execution_count": 9,
   "metadata": {},
   "outputs": [],
   "source": [
    "produto = {\n",
    "    'Código': 10,\n",
    "    'Produto': 'Computador',\n",
    "    'Acessórios': ['Mouse', 'Teclado', 'Caixas de som']\n",
    "}"
   ]
  },
  {
   "cell_type": "code",
   "execution_count": 10,
   "metadata": {},
   "outputs": [],
   "source": [
    "produto2 = produto.copy()"
   ]
  },
  {
   "cell_type": "code",
   "execution_count": 11,
   "metadata": {},
   "outputs": [
    {
     "name": "stdout",
     "output_type": "stream",
     "text": [
      "{'Código': 10, 'Produto': 'Computador', 'Acessórios': ['Mouse', 'Teclado', 'Caixas de som']}\n",
      "{'Código': 10, 'Produto': 'Computador', 'Acessórios': ['Mouse', 'Teclado', 'Caixas de som']}\n"
     ]
    }
   ],
   "source": [
    "print(produto)\n",
    "print(produto2)"
   ]
  },
  {
   "cell_type": "code",
   "execution_count": 12,
   "metadata": {},
   "outputs": [],
   "source": [
    "produto2['Código'] = 15\n",
    "produto2['Acessórios'][2] = 'Pendrive'"
   ]
  },
  {
   "cell_type": "code",
   "execution_count": 13,
   "metadata": {},
   "outputs": [
    {
     "name": "stdout",
     "output_type": "stream",
     "text": [
      "{'Código': 10, 'Produto': 'Computador', 'Acessórios': ['Mouse', 'Teclado', 'Pendrive']}\n",
      "{'Código': 15, 'Produto': 'Computador', 'Acessórios': ['Mouse', 'Teclado', 'Pendrive']}\n"
     ]
    }
   ],
   "source": [
    "print(produto)\n",
    "print(produto2)"
   ]
  },
  {
   "cell_type": "markdown",
   "metadata": {},
   "source": [
    "* Deep copy"
   ]
  },
  {
   "cell_type": "code",
   "execution_count": 14,
   "metadata": {},
   "outputs": [],
   "source": [
    "from copy import deepcopy"
   ]
  },
  {
   "cell_type": "code",
   "execution_count": 15,
   "metadata": {},
   "outputs": [],
   "source": [
    "produto = {\n",
    "    'Código': 10,\n",
    "    'Produto': 'Computador',\n",
    "    'Acessórios': ['Mouse', 'Teclado', 'Caixas de som']\n",
    "}"
   ]
  },
  {
   "cell_type": "code",
   "execution_count": 16,
   "metadata": {},
   "outputs": [],
   "source": [
    "produto2 = deepcopy(produto)"
   ]
  },
  {
   "cell_type": "code",
   "execution_count": 17,
   "metadata": {},
   "outputs": [
    {
     "name": "stdout",
     "output_type": "stream",
     "text": [
      "{'Código': 10, 'Produto': 'Computador', 'Acessórios': ['Mouse', 'Teclado', 'Caixas de som']}\n",
      "{'Código': 10, 'Produto': 'Computador', 'Acessórios': ['Mouse', 'Teclado', 'Caixas de som']}\n"
     ]
    }
   ],
   "source": [
    "print(produto)\n",
    "print(produto2)"
   ]
  },
  {
   "cell_type": "code",
   "execution_count": 18,
   "metadata": {},
   "outputs": [],
   "source": [
    "produto2['Código'] = 15\n",
    "produto2['Acessórios'][2] = 'Pendrive'"
   ]
  },
  {
   "cell_type": "code",
   "execution_count": 19,
   "metadata": {},
   "outputs": [
    {
     "name": "stdout",
     "output_type": "stream",
     "text": [
      "{'Código': 10, 'Produto': 'Computador', 'Acessórios': ['Mouse', 'Teclado', 'Caixas de som']}\n",
      "{'Código': 15, 'Produto': 'Computador', 'Acessórios': ['Mouse', 'Teclado', 'Pendrive']}\n"
     ]
    }
   ],
   "source": [
    "print(produto)\n",
    "print(produto2)"
   ]
  }
 ],
 "metadata": {
  "kernelspec": {
   "display_name": "venv",
   "language": "python",
   "name": "python3"
  },
  "language_info": {
   "codemirror_mode": {
    "name": "ipython",
    "version": 3
   },
   "file_extension": ".py",
   "mimetype": "text/x-python",
   "name": "python",
   "nbconvert_exporter": "python",
   "pygments_lexer": "ipython3",
   "version": "3.12.4"
  }
 },
 "nbformat": 4,
 "nbformat_minor": 2
}
