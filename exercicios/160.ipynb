{
 "cells": [
  {
   "cell_type": "markdown",
   "metadata": {},
   "source": [
    "# Exercício Aula 160"
   ]
  },
  {
   "cell_type": "code",
   "execution_count": 39,
   "metadata": {},
   "outputs": [],
   "source": [
    "from pprint import pprint\n",
    "from copy import deepcopy"
   ]
  },
  {
   "cell_type": "code",
   "execution_count": 40,
   "metadata": {},
   "outputs": [],
   "source": [
    "produtos = [\n",
    "    {'nome': 'Produto 5', 'preco': 10.00},\n",
    "    {'nome': 'Produto 1', 'preco': 22.32},\n",
    "    {'nome': 'Produto 2', 'preco': 10.11},\n",
    "    {'nome': 'Produto 3', 'preco': 105.87},\n",
    "    {'nome': 'Produto 4', 'preco': 69.90},\n",
    "]"
   ]
  },
  {
   "cell_type": "markdown",
   "metadata": {},
   "source": [
    "* Cópia profunda de produtos"
   ]
  },
  {
   "cell_type": "code",
   "execution_count": 41,
   "metadata": {},
   "outputs": [
    {
     "name": "stdout",
     "output_type": "stream",
     "text": [
      "[{'nome': 'Produto 5', 'preco': 10.0},\n",
      " {'nome': 'Produto 1', 'preco': 22.32},\n",
      " {'nome': 'Produto 2', 'preco': 10.11},\n",
      " {'nome': 'Produto 3', 'preco': 105.87},\n",
      " {'nome': 'Produto 4', 'preco': 69.9}]\n"
     ]
    }
   ],
   "source": [
    "novos_produtos = deepcopy(produtos)\n",
    "\n",
    "pprint(novos_produtos)"
   ]
  },
  {
   "cell_type": "markdown",
   "metadata": {},
   "source": [
    "* Aumentar os preços dos produtos em 10%"
   ]
  },
  {
   "cell_type": "code",
   "execution_count": 42,
   "metadata": {},
   "outputs": [
    {
     "name": "stdout",
     "output_type": "stream",
     "text": [
      "[{'nome': 'Produto 5', 'preco': 11.0},\n",
      " {'nome': 'Produto 1', 'preco': 24.55},\n",
      " {'nome': 'Produto 2', 'preco': 11.12},\n",
      " {'nome': 'Produto 3', 'preco': 116.46},\n",
      " {'nome': 'Produto 4', 'preco': 76.89}]\n"
     ]
    }
   ],
   "source": [
    "novos_produtos = [{**produto, 'preco': round(produto['preco'] * 1.10, 2)} for produto in novos_produtos]\n",
    "pprint(novos_produtos)"
   ]
  },
  {
   "cell_type": "markdown",
   "metadata": {},
   "source": [
    "* Ordenando produtos por nome decrescente"
   ]
  },
  {
   "cell_type": "code",
   "execution_count": 43,
   "metadata": {},
   "outputs": [
    {
     "name": "stdout",
     "output_type": "stream",
     "text": [
      "[{'nome': 'Produto 5', 'preco': 11.0},\n",
      " {'nome': 'Produto 4', 'preco': 76.89},\n",
      " {'nome': 'Produto 3', 'preco': 116.46},\n",
      " {'nome': 'Produto 2', 'preco': 11.12},\n",
      " {'nome': 'Produto 1', 'preco': 24.55}]\n"
     ]
    }
   ],
   "source": [
    "novos_produtos = sorted(novos_produtos, key=lambda item: item['nome'], reverse=True)\n",
    "produtos_ordenados_por_nome = deepcopy(novos_produtos)\n",
    "pprint(produtos_ordenados_por_nome)"
   ]
  },
  {
   "cell_type": "markdown",
   "metadata": {},
   "source": [
    "* Ordenando produtos preço crescente"
   ]
  },
  {
   "cell_type": "code",
   "execution_count": 45,
   "metadata": {},
   "outputs": [
    {
     "name": "stdout",
     "output_type": "stream",
     "text": [
      "[{'nome': 'Produto 5', 'preco': 11.0},\n",
      " {'nome': 'Produto 2', 'preco': 11.12},\n",
      " {'nome': 'Produto 1', 'preco': 24.55},\n",
      " {'nome': 'Produto 4', 'preco': 76.89},\n",
      " {'nome': 'Produto 3', 'preco': 116.46}]\n"
     ]
    }
   ],
   "source": [
    "novos_produtos = sorted(novos_produtos, key=lambda item: item['preco'])\n",
    "produtos_ordenados_por_preco = deepcopy(novos_produtos)\n",
    "pprint(produtos_ordenados_por_preco)"
   ]
  }
 ],
 "metadata": {
  "kernelspec": {
   "display_name": "venv",
   "language": "python",
   "name": "python3"
  },
  "language_info": {
   "codemirror_mode": {
    "name": "ipython",
    "version": 3
   },
   "file_extension": ".py",
   "mimetype": "text/x-python",
   "name": "python",
   "nbconvert_exporter": "python",
   "pygments_lexer": "ipython3",
   "version": "3.12.5"
  }
 },
 "nbformat": 4,
 "nbformat_minor": 2
}
